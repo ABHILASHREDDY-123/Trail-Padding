{
 "cells": [
  {
   "cell_type": "code",
   "execution_count": 1,
   "id": "4f911852",
   "metadata": {
    "execution": {
     "iopub.execute_input": "2024-02-07T13:19:42.748644Z",
     "iopub.status.busy": "2024-02-07T13:19:42.742677Z",
     "iopub.status.idle": "2024-02-07T13:19:48.422539Z",
     "shell.execute_reply": "2024-02-07T13:19:48.419477Z"
    },
    "scrolled": true
   },
   "outputs": [],
   "source": [
    "import numpy as np\n",
    "import pandas as pd\n",
    "import matplotlib.pyplot as plt\n",
    "import seaborn as sns\n",
    "from PIL import Image\n",
    "import tensorflow as tf\n",
    "import random\n",
    "import time\n",
    "from tensorflow.keras.models import Sequential\n",
    "from tensorflow.keras.layers import Dense, Flatten, Conv2D,MaxPooling2D,Dropout,InputLayer,BatchNormalization\n",
    "from tensorflow.keras.utils import to_categorical,plot_model\n",
    "from tensorflow.keras.applications import MobileNetV3Large\n",
    "from sklearn.metrics import confusion_matrix,ConfusionMatrixDisplay\n",
    "from tensorflow.keras.preprocessing.image import ImageDataGenerator\n",
    "from sklearn.metrics import classification_report, accuracy_score\n",
    "from matplotlib.colors import LinearSegmentedColormap\n",
    "import cv2\n",
    "import math\n",
    "from imblearn.over_sampling import RandomOverSampler"
   ]
  },
  {
   "cell_type": "code",
   "execution_count": 2,
   "id": "4fe1f2f8",
   "metadata": {
    "execution": {
     "iopub.execute_input": "2024-02-07T13:19:48.431365Z",
     "iopub.status.busy": "2024-02-07T13:19:48.430400Z",
     "iopub.status.idle": "2024-02-07T13:19:48.533165Z",
     "shell.execute_reply": "2024-02-07T13:19:48.534050Z"
    }
   },
   "outputs": [],
   "source": [
    "path = \"../germany_dataset/train.csv\"\n",
    "df = pd.read_csv(path)\n",
    "df = df.dropna()\n",
    "filename=\"Trail6\""
   ]
  },
  {
   "cell_type": "code",
   "execution_count": 3,
   "id": "4c0b17bf",
   "metadata": {
    "execution": {
     "iopub.execute_input": "2024-02-07T13:19:48.541602Z",
     "iopub.status.busy": "2024-02-07T13:19:48.540502Z",
     "iopub.status.idle": "2024-02-07T13:19:48.580149Z",
     "shell.execute_reply": "2024-02-07T13:19:48.581220Z"
    },
    "scrolled": true
   },
   "outputs": [
    {
     "data": {
      "text/html": [
       "<div>\n",
       "<style scoped>\n",
       "    .dataframe tbody tr th:only-of-type {\n",
       "        vertical-align: middle;\n",
       "    }\n",
       "\n",
       "    .dataframe tbody tr th {\n",
       "        vertical-align: top;\n",
       "    }\n",
       "\n",
       "    .dataframe thead th {\n",
       "        text-align: right;\n",
       "    }\n",
       "</style>\n",
       "<table border=\"1\" class=\"dataframe\">\n",
       "  <thead>\n",
       "    <tr style=\"text-align: right;\">\n",
       "      <th></th>\n",
       "      <th>Width</th>\n",
       "      <th>Height</th>\n",
       "      <th>Roi.X1</th>\n",
       "      <th>Roi.Y1</th>\n",
       "      <th>Roi.X2</th>\n",
       "      <th>Roi.Y2</th>\n",
       "      <th>ClassId</th>\n",
       "      <th>Path</th>\n",
       "      <th>length</th>\n",
       "      <th>height</th>\n",
       "    </tr>\n",
       "  </thead>\n",
       "  <tbody>\n",
       "    <tr>\n",
       "      <th>0</th>\n",
       "      <td>27</td>\n",
       "      <td>26</td>\n",
       "      <td>5</td>\n",
       "      <td>5</td>\n",
       "      <td>22</td>\n",
       "      <td>20</td>\n",
       "      <td>20</td>\n",
       "      <td>Train/20/00020_00000_00000.png</td>\n",
       "      <td>17</td>\n",
       "      <td>15</td>\n",
       "    </tr>\n",
       "    <tr>\n",
       "      <th>1</th>\n",
       "      <td>28</td>\n",
       "      <td>27</td>\n",
       "      <td>5</td>\n",
       "      <td>6</td>\n",
       "      <td>23</td>\n",
       "      <td>22</td>\n",
       "      <td>20</td>\n",
       "      <td>Train/20/00020_00000_00001.png</td>\n",
       "      <td>18</td>\n",
       "      <td>16</td>\n",
       "    </tr>\n",
       "    <tr>\n",
       "      <th>2</th>\n",
       "      <td>29</td>\n",
       "      <td>26</td>\n",
       "      <td>6</td>\n",
       "      <td>5</td>\n",
       "      <td>24</td>\n",
       "      <td>21</td>\n",
       "      <td>20</td>\n",
       "      <td>Train/20/00020_00000_00002.png</td>\n",
       "      <td>18</td>\n",
       "      <td>16</td>\n",
       "    </tr>\n",
       "    <tr>\n",
       "      <th>3</th>\n",
       "      <td>28</td>\n",
       "      <td>27</td>\n",
       "      <td>5</td>\n",
       "      <td>6</td>\n",
       "      <td>23</td>\n",
       "      <td>22</td>\n",
       "      <td>20</td>\n",
       "      <td>Train/20/00020_00000_00003.png</td>\n",
       "      <td>18</td>\n",
       "      <td>16</td>\n",
       "    </tr>\n",
       "    <tr>\n",
       "      <th>4</th>\n",
       "      <td>28</td>\n",
       "      <td>26</td>\n",
       "      <td>5</td>\n",
       "      <td>5</td>\n",
       "      <td>23</td>\n",
       "      <td>21</td>\n",
       "      <td>20</td>\n",
       "      <td>Train/20/00020_00000_00004.png</td>\n",
       "      <td>18</td>\n",
       "      <td>16</td>\n",
       "    </tr>\n",
       "  </tbody>\n",
       "</table>\n",
       "</div>"
      ],
      "text/plain": [
       "   Width  Height  Roi.X1  Roi.Y1  Roi.X2  Roi.Y2  ClassId  \\\n",
       "0     27      26       5       5      22      20       20   \n",
       "1     28      27       5       6      23      22       20   \n",
       "2     29      26       6       5      24      21       20   \n",
       "3     28      27       5       6      23      22       20   \n",
       "4     28      26       5       5      23      21       20   \n",
       "\n",
       "                             Path  length  height  \n",
       "0  Train/20/00020_00000_00000.png      17      15  \n",
       "1  Train/20/00020_00000_00001.png      18      16  \n",
       "2  Train/20/00020_00000_00002.png      18      16  \n",
       "3  Train/20/00020_00000_00003.png      18      16  \n",
       "4  Train/20/00020_00000_00004.png      18      16  "
      ]
     },
     "execution_count": 1,
     "metadata": {},
     "output_type": "execute_result"
    }
   ],
   "source": [
    "df[\"length\"] = df[\"Roi.X2\"]-df[\"Roi.X1\"]\n",
    "df[\"height\"] = df[\"Roi.Y2\"]-df[\"Roi.Y1\"]\n",
    "df.head()"
   ]
  },
  {
   "cell_type": "code",
   "execution_count": 4,
   "id": "d929f4db",
   "metadata": {
    "execution": {
     "iopub.execute_input": "2024-02-07T13:19:48.589608Z",
     "iopub.status.busy": "2024-02-07T13:19:48.586637Z",
     "iopub.status.idle": "2024-02-07T13:19:48.695745Z",
     "shell.execute_reply": "2024-02-07T13:19:48.694216Z"
    },
    "scrolled": true
   },
   "outputs": [
    {
     "data": {
      "text/html": [
       "<div>\n",
       "<style scoped>\n",
       "    .dataframe tbody tr th:only-of-type {\n",
       "        vertical-align: middle;\n",
       "    }\n",
       "\n",
       "    .dataframe tbody tr th {\n",
       "        vertical-align: top;\n",
       "    }\n",
       "\n",
       "    .dataframe thead th {\n",
       "        text-align: right;\n",
       "    }\n",
       "</style>\n",
       "<table border=\"1\" class=\"dataframe\">\n",
       "  <thead>\n",
       "    <tr style=\"text-align: right;\">\n",
       "      <th></th>\n",
       "      <th>Width</th>\n",
       "      <th>Height</th>\n",
       "      <th>Roi.X1</th>\n",
       "      <th>Roi.Y1</th>\n",
       "      <th>Roi.X2</th>\n",
       "      <th>Roi.Y2</th>\n",
       "      <th>ClassId</th>\n",
       "      <th>length</th>\n",
       "      <th>height</th>\n",
       "    </tr>\n",
       "  </thead>\n",
       "  <tbody>\n",
       "    <tr>\n",
       "      <th>count</th>\n",
       "      <td>39209.000000</td>\n",
       "      <td>39209.000000</td>\n",
       "      <td>39209.000000</td>\n",
       "      <td>39209.000000</td>\n",
       "      <td>39209.000000</td>\n",
       "      <td>39209.000000</td>\n",
       "      <td>39209.000000</td>\n",
       "      <td>39209.000000</td>\n",
       "      <td>39209.000000</td>\n",
       "    </tr>\n",
       "    <tr>\n",
       "      <th>mean</th>\n",
       "      <td>50.835880</td>\n",
       "      <td>50.328930</td>\n",
       "      <td>5.999515</td>\n",
       "      <td>5.962381</td>\n",
       "      <td>45.197302</td>\n",
       "      <td>44.728379</td>\n",
       "      <td>15.788390</td>\n",
       "      <td>39.197786</td>\n",
       "      <td>38.765998</td>\n",
       "    </tr>\n",
       "    <tr>\n",
       "      <th>std</th>\n",
       "      <td>24.306933</td>\n",
       "      <td>23.115423</td>\n",
       "      <td>1.475493</td>\n",
       "      <td>1.385440</td>\n",
       "      <td>23.060157</td>\n",
       "      <td>21.971145</td>\n",
       "      <td>12.013238</td>\n",
       "      <td>21.821369</td>\n",
       "      <td>20.828697</td>\n",
       "    </tr>\n",
       "    <tr>\n",
       "      <th>min</th>\n",
       "      <td>25.000000</td>\n",
       "      <td>25.000000</td>\n",
       "      <td>0.000000</td>\n",
       "      <td>5.000000</td>\n",
       "      <td>20.000000</td>\n",
       "      <td>20.000000</td>\n",
       "      <td>0.000000</td>\n",
       "      <td>15.000000</td>\n",
       "      <td>15.000000</td>\n",
       "    </tr>\n",
       "    <tr>\n",
       "      <th>25%</th>\n",
       "      <td>35.000000</td>\n",
       "      <td>35.000000</td>\n",
       "      <td>5.000000</td>\n",
       "      <td>5.000000</td>\n",
       "      <td>29.000000</td>\n",
       "      <td>30.000000</td>\n",
       "      <td>5.000000</td>\n",
       "      <td>24.000000</td>\n",
       "      <td>24.000000</td>\n",
       "    </tr>\n",
       "    <tr>\n",
       "      <th>50%</th>\n",
       "      <td>43.000000</td>\n",
       "      <td>43.000000</td>\n",
       "      <td>6.000000</td>\n",
       "      <td>6.000000</td>\n",
       "      <td>38.000000</td>\n",
       "      <td>38.000000</td>\n",
       "      <td>12.000000</td>\n",
       "      <td>33.000000</td>\n",
       "      <td>32.000000</td>\n",
       "    </tr>\n",
       "    <tr>\n",
       "      <th>75%</th>\n",
       "      <td>58.000000</td>\n",
       "      <td>58.000000</td>\n",
       "      <td>6.000000</td>\n",
       "      <td>6.000000</td>\n",
       "      <td>53.000000</td>\n",
       "      <td>52.000000</td>\n",
       "      <td>25.000000</td>\n",
       "      <td>47.000000</td>\n",
       "      <td>47.000000</td>\n",
       "    </tr>\n",
       "    <tr>\n",
       "      <th>max</th>\n",
       "      <td>243.000000</td>\n",
       "      <td>225.000000</td>\n",
       "      <td>20.000000</td>\n",
       "      <td>20.000000</td>\n",
       "      <td>223.000000</td>\n",
       "      <td>205.000000</td>\n",
       "      <td>42.000000</td>\n",
       "      <td>203.000000</td>\n",
       "      <td>185.000000</td>\n",
       "    </tr>\n",
       "  </tbody>\n",
       "</table>\n",
       "</div>"
      ],
      "text/plain": [
       "              Width        Height        Roi.X1        Roi.Y1        Roi.X2  \\\n",
       "count  39209.000000  39209.000000  39209.000000  39209.000000  39209.000000   \n",
       "mean      50.835880     50.328930      5.999515      5.962381     45.197302   \n",
       "std       24.306933     23.115423      1.475493      1.385440     23.060157   \n",
       "min       25.000000     25.000000      0.000000      5.000000     20.000000   \n",
       "25%       35.000000     35.000000      5.000000      5.000000     29.000000   \n",
       "50%       43.000000     43.000000      6.000000      6.000000     38.000000   \n",
       "75%       58.000000     58.000000      6.000000      6.000000     53.000000   \n",
       "max      243.000000    225.000000     20.000000     20.000000    223.000000   \n",
       "\n",
       "             Roi.Y2       ClassId        length        height  \n",
       "count  39209.000000  39209.000000  39209.000000  39209.000000  \n",
       "mean      44.728379     15.788390     39.197786     38.765998  \n",
       "std       21.971145     12.013238     21.821369     20.828697  \n",
       "min       20.000000      0.000000     15.000000     15.000000  \n",
       "25%       30.000000      5.000000     24.000000     24.000000  \n",
       "50%       38.000000     12.000000     33.000000     32.000000  \n",
       "75%       52.000000     25.000000     47.000000     47.000000  \n",
       "max      205.000000     42.000000    203.000000    185.000000  "
      ]
     },
     "execution_count": 1,
     "metadata": {},
     "output_type": "execute_result"
    }
   ],
   "source": [
    "df.describe()"
   ]
  },
  {
   "cell_type": "code",
   "execution_count": 5,
   "id": "fb9034e4",
   "metadata": {
    "execution": {
     "iopub.execute_input": "2024-02-07T13:19:48.706348Z",
     "iopub.status.busy": "2024-02-07T13:19:48.705147Z",
     "iopub.status.idle": "2024-02-07T13:19:48.709322Z",
     "shell.execute_reply": "2024-02-07T13:19:48.710424Z"
    }
   },
   "outputs": [],
   "source": [
    "# All Variables declaration to use same code for different datasets\n",
    "num_of_classes = df[\"ClassId\"].nunique()\n",
    "resize_x  = 32\n",
    "resize_y  = 32\n",
    "num_of_channels = 3\n",
    "directory = \"../germany_dataset/\"\n",
    "testdir = \"../germany_dataset/test.csv\"\n",
    "Epochs=25\n",
    "train_length = len(df)\n",
    "Y_col_name=\"ClassId\""
   ]
  },
  {
   "cell_type": "code",
   "execution_count": 6,
   "id": "1dba79bf",
   "metadata": {
    "execution": {
     "iopub.execute_input": "2024-02-07T13:19:48.723003Z",
     "iopub.status.busy": "2024-02-07T13:19:48.721651Z",
     "iopub.status.idle": "2024-02-07T13:19:49.029596Z",
     "shell.execute_reply": "2024-02-07T13:19:49.030523Z"
    }
   },
   "outputs": [],
   "source": [
    "# Necessary Functions\n",
    "def remove_outlier(df,parameter):\n",
    "    Percentile25 = df[parameter].quantile(0.25)\n",
    "    Percentile75 = df[parameter].quantile(0.75)\n",
    "    iqr = Percentile75 - Percentile25\n",
    "    lowerlimit = Percentile25 - 1.5*iqr\n",
    "    upperlimit = Percentile75 + 1.5*iqr\n",
    "    temp1 = df[parameter]>lowerlimit\n",
    "    temp2 = df[parameter]<upperlimit\n",
    "    return df[temp1 & temp2] \n",
    "\n",
    "def get_max_index(arr):\n",
    "    length = len(arr)\n",
    "    mini = 0\n",
    "    value = 0\n",
    "    for i,val in enumerate(arr):\n",
    "        if mini < val :\n",
    "            mini = val\n",
    "            value = i\n",
    "    return value\n",
    "\n",
    "def viewStatistics(df):\n",
    "    #Statistics of Data\n",
    "    print(\"Total Training Examples : \",len(df))\n",
    "    values = df[\"ClassId\"].value_counts()\n",
    "    x_labels = [str(x) for x in range(num_of_classes)]\n",
    "    y_labels = []\n",
    "    for x in range(num_of_classes):\n",
    "        y_labels.append(values[x])\n",
    "    plt.figure(figsize=(15, 6))\n",
    "    plt.bar(x_labels,y_labels,width=0.5)\n",
    "    plt.title('Bar Graph')\n",
    "    plt.xlabel('Class')\n",
    "    plt.ylabel('Frequency')\n",
    "    plt.tight_layout()\n",
    "    plt.show()\n",
    "\n",
    "def Predict_for_single_example(model,img):\n",
    "    img  = np.array(img)\n",
    "    img  = tf.convert_to_tensor(img,dtype=float)\n",
    "    img = img/255.0\n",
    "    img = tf.expand_dims(img, axis=0)\n",
    "    probability = model.predict(img)\n",
    "    value = get_max_index(probability[0])\n",
    "    return value\n",
    "    \n",
    "def Predict_for_Multiple_examples(model,images):\n",
    "    img = []\n",
    "    for j in range(len(images)):\n",
    "        img.append(np.array(images[j]))\n",
    "    img = np.array(img)\n",
    "    img = tf.convert_to_tensor(img,dtype=float)\n",
    "    img = img/255.0\n",
    "    probability = model.predict(img)\n",
    "    values = []\n",
    "    for val in probability:\n",
    "        values.append(get_max_index(val))\n",
    "    return values\n",
    "\n",
    "def PredictTest(model,df,start,length):\n",
    "    images = []\n",
    "    y_test = []\n",
    "    length = min(length,len(df)-start)\n",
    "    for i in range(length):\n",
    "        row = df.loc[start+i].values\n",
    "        images.append(Image.open(directory+row[7]).crop((row[2],row[3],row[4],row[5])).resize((resize_x,resize_y)))\n",
    "        y_test.append(row[6])\n",
    "    \n",
    "\n",
    "    y_predicted = Predict_for_Multiple_examples(model,images)\n",
    "\n",
    "    return y_test,y_predicted\n",
    "\n",
    "def PredictTest(model,df):\n",
    "    images = []\n",
    "    y_test = []\n",
    "    length = len(df)\n",
    "    for i in range(length):\n",
    "        row = df.loc[i].values\n",
    "        images.append(Image.open(directory+row[7]).crop((row[2],row[3],row[4],row[5])).resize((resize_x,resize_y)))\n",
    "        y_test.append(row[6])\n",
    "        \n",
    "    y_predicted = Predict_for_Multiple_examples(model,images)\n",
    "\n",
    "    return y_test,y_predicted"
   ]
  },
  {
   "cell_type": "code",
   "execution_count": 7,
   "id": "870d8ac4",
   "metadata": {
    "execution": {
     "iopub.execute_input": "2024-02-07T13:19:49.037106Z",
     "iopub.status.busy": "2024-02-07T13:19:49.034698Z",
     "iopub.status.idle": "2024-02-07T13:19:50.206208Z",
     "shell.execute_reply": "2024-02-07T13:19:50.207109Z"
    }
   },
   "outputs": [
    {
     "name": "stdout",
     "output_type": "stream",
     "text": [
      "Total Training Examples :  39209\n"
     ]
    },
    {
     "data": {
      "image/png": "[encoded data removed]",
      "text/plain": [
       "<Figure size 1080x432 with 1 Axes>"
      ]
     },
     "metadata": {
      "needs_background": "light"
     },
     "output_type": "display_data"
    }
   ],
   "source": [
    "#Statistics of Data\n",
    "viewStatistics(df)"
   ]
  },
  {
   "cell_type": "code",
   "execution_count": 8,
   "id": "b61d0af2",
   "metadata": {
    "execution": {
     "iopub.execute_input": "2024-02-07T13:19:50.217669Z",
     "iopub.status.busy": "2024-02-07T13:19:50.216324Z",
     "iopub.status.idle": "2024-02-07T13:19:50.220299Z",
     "shell.execute_reply": "2024-02-07T13:19:50.221404Z"
    }
   },
   "outputs": [
    {
     "name": "stdout",
     "output_type": "stream",
     "text": [
      "Total Training Examples :  39209\n"
     ]
    }
   ],
   "source": [
    "train_length = len(df)\n",
    "print(\"Total Training Examples : \",len(df))"
   ]
  },
  {
   "cell_type": "code",
   "execution_count": 9,
   "id": "fda44fc3",
   "metadata": {
    "execution": {
     "iopub.execute_input": "2024-02-07T13:19:50.243368Z",
     "iopub.status.busy": "2024-02-07T13:19:50.241892Z",
     "iopub.status.idle": "2024-02-07T13:19:51.661113Z",
     "shell.execute_reply": "2024-02-07T13:19:51.661942Z"
    }
   },
   "outputs": [
    {
     "name": "stdout",
     "output_type": "stream",
     "text": [
      "Total Training Examples :  96750\n"
     ]
    },
    {
     "data": {
      "image/png": "[encoded data removed]",
      "text/plain": [
       "<Figure size 1080x432 with 1 Axes>"
      ]
     },
     "metadata": {
      "needs_background": "light"
     },
     "output_type": "display_data"
    }
   ],
   "source": [
    "X = df.drop(Y_col_name, axis=1)\n",
    "y = df[Y_col_name]\n",
    "oversampler = RandomOverSampler(sampling_strategy='auto', random_state=42)\n",
    "\n",
    "# Fit and apply the oversampler to the data\n",
    "X_resampled, y_resampled = oversampler.fit_resample(X, y)\n",
    "\n",
    "df = pd.DataFrame(X_resampled, columns=X.columns)\n",
    "df[Y_col_name] = y_resampled\n",
    "df[Y_col_name].astype(str)\n",
    "\n",
    "viewStatistics(df)"
   ]
  },
  {
   "cell_type": "code",
   "execution_count": 10,
   "id": "e45563d4",
   "metadata": {
    "execution": {
     "iopub.execute_input": "2024-02-07T13:19:51.681072Z",
     "iopub.status.busy": "2024-02-07T13:19:51.679889Z",
     "iopub.status.idle": "2024-02-07T13:19:51.708730Z",
     "shell.execute_reply": "2024-02-07T13:19:51.709829Z"
    }
   },
   "outputs": [
    {
     "data": {
      "text/html": [
       "<div>\n",
       "<style scoped>\n",
       "    .dataframe tbody tr th:only-of-type {\n",
       "        vertical-align: middle;\n",
       "    }\n",
       "\n",
       "    .dataframe tbody tr th {\n",
       "        vertical-align: top;\n",
       "    }\n",
       "\n",
       "    .dataframe thead th {\n",
       "        text-align: right;\n",
       "    }\n",
       "</style>\n",
       "<table border=\"1\" class=\"dataframe\">\n",
       "  <thead>\n",
       "    <tr style=\"text-align: right;\">\n",
       "      <th></th>\n",
       "      <th>Width</th>\n",
       "      <th>Height</th>\n",
       "      <th>Roi.X1</th>\n",
       "      <th>Roi.Y1</th>\n",
       "      <th>Roi.X2</th>\n",
       "      <th>Roi.Y2</th>\n",
       "      <th>Path</th>\n",
       "      <th>length</th>\n",
       "      <th>height</th>\n",
       "      <th>ClassId</th>\n",
       "    </tr>\n",
       "  </thead>\n",
       "  <tbody>\n",
       "    <tr>\n",
       "      <th>0</th>\n",
       "      <td>27</td>\n",
       "      <td>26</td>\n",
       "      <td>5</td>\n",
       "      <td>5</td>\n",
       "      <td>22</td>\n",
       "      <td>20</td>\n",
       "      <td>Train/20/00020_00000_00000.png</td>\n",
       "      <td>17</td>\n",
       "      <td>15</td>\n",
       "      <td>20</td>\n",
       "    </tr>\n",
       "    <tr>\n",
       "      <th>1</th>\n",
       "      <td>28</td>\n",
       "      <td>27</td>\n",
       "      <td>5</td>\n",
       "      <td>6</td>\n",
       "      <td>23</td>\n",
       "      <td>22</td>\n",
       "      <td>Train/20/00020_00000_00001.png</td>\n",
       "      <td>18</td>\n",
       "      <td>16</td>\n",
       "      <td>20</td>\n",
       "    </tr>\n",
       "    <tr>\n",
       "      <th>2</th>\n",
       "      <td>29</td>\n",
       "      <td>26</td>\n",
       "      <td>6</td>\n",
       "      <td>5</td>\n",
       "      <td>24</td>\n",
       "      <td>21</td>\n",
       "      <td>Train/20/00020_00000_00002.png</td>\n",
       "      <td>18</td>\n",
       "      <td>16</td>\n",
       "      <td>20</td>\n",
       "    </tr>\n",
       "    <tr>\n",
       "      <th>3</th>\n",
       "      <td>28</td>\n",
       "      <td>27</td>\n",
       "      <td>5</td>\n",
       "      <td>6</td>\n",
       "      <td>23</td>\n",
       "      <td>22</td>\n",
       "      <td>Train/20/00020_00000_00003.png</td>\n",
       "      <td>18</td>\n",
       "      <td>16</td>\n",
       "      <td>20</td>\n",
       "    </tr>\n",
       "    <tr>\n",
       "      <th>4</th>\n",
       "      <td>28</td>\n",
       "      <td>26</td>\n",
       "      <td>5</td>\n",
       "      <td>5</td>\n",
       "      <td>23</td>\n",
       "      <td>21</td>\n",
       "      <td>Train/20/00020_00000_00004.png</td>\n",
       "      <td>18</td>\n",
       "      <td>16</td>\n",
       "      <td>20</td>\n",
       "    </tr>\n",
       "  </tbody>\n",
       "</table>\n",
       "</div>"
      ],
      "text/plain": [
       "   Width  Height  Roi.X1  Roi.Y1  Roi.X2  Roi.Y2  \\\n",
       "0     27      26       5       5      22      20   \n",
       "1     28      27       5       6      23      22   \n",
       "2     29      26       6       5      24      21   \n",
       "3     28      27       5       6      23      22   \n",
       "4     28      26       5       5      23      21   \n",
       "\n",
       "                             Path  length  height  ClassId  \n",
       "0  Train/20/00020_00000_00000.png      17      15       20  \n",
       "1  Train/20/00020_00000_00001.png      18      16       20  \n",
       "2  Train/20/00020_00000_00002.png      18      16       20  \n",
       "3  Train/20/00020_00000_00003.png      18      16       20  \n",
       "4  Train/20/00020_00000_00004.png      18      16       20  "
      ]
     },
     "execution_count": 1,
     "metadata": {},
     "output_type": "execute_result"
    }
   ],
   "source": [
    "df.head()"
   ]
  },
  {
   "cell_type": "code",
   "execution_count": 11,
   "id": "15a50531",
   "metadata": {
    "execution": {
     "iopub.execute_input": "2024-02-07T13:19:51.738627Z",
     "iopub.status.busy": "2024-02-07T13:19:51.719595Z",
     "iopub.status.idle": "2024-02-07T13:19:51.746031Z",
     "shell.execute_reply": "2024-02-07T13:19:51.746892Z"
    }
   },
   "outputs": [],
   "source": [
    "# Sample Images and there crop according to data given in csv\n",
    "def showExamples(df):\n",
    "    num_rows = 5\n",
    "    num_cols = 2\n",
    "    fig, axes = plt.subplots(num_rows, num_cols, figsize=(10, 20))\n",
    "    total_images = []\n",
    "    for i in range(5):\n",
    "        integer = random.randint(0,len(df))\n",
    "        total_images.append(df.iloc[integer].values)\n",
    "    total_images = list(total_images)\n",
    "    for i,val in enumerate(total_images):\n",
    "        row = i\n",
    "        col=0\n",
    "        ax = axes[row, col]\n",
    "        img = Image.open(directory+val[6])\n",
    "        ax.imshow(img)\n",
    "        img = img.crop((val[2],val[3],val[4],val[5]))\n",
    "        ax = axes[row,col+1]\n",
    "        ax.imshow(img)\n",
    "        ax.set_title(directory+val[6])\n",
    "        print(directory+val[6])\n",
    "    ax.axis('off')\n",
    "\n",
    "def showTestExamples(df):\n",
    "    num_rows = 5\n",
    "    num_cols = 2\n",
    "    fig, axes = plt.subplots(num_rows, num_cols, figsize=(10, 20))\n",
    "    total_images = []\n",
    "    for i in range(5):\n",
    "        integer = random.randint(0,len(df))\n",
    "        total_images.append(df.iloc[integer].values)\n",
    "    total_images = list(total_images)\n",
    "    for i,val in enumerate(total_images):\n",
    "        row = i\n",
    "        col=0\n",
    "        ax = axes[row, col]\n",
    "        img = Image.open(directory+val[7])\n",
    "        ax.imshow(img)\n",
    "        img = img.crop((val[2],val[3],val[4],val[5]))\n",
    "        ax = axes[row,col+1]\n",
    "        ax.imshow(img)\n",
    "        ax.set_title(\"Class : \"+str(val[6]))\n",
    "    ax.axis('off')\n",
    "    "
   ]
  },
  {
   "cell_type": "code",
   "execution_count": 12,
   "id": "f7069328",
   "metadata": {
    "execution": {
     "iopub.execute_input": "2024-02-07T13:19:51.753153Z",
     "iopub.status.busy": "2024-02-07T13:19:51.750925Z",
     "iopub.status.idle": "2024-02-07T13:19:53.874131Z",
     "shell.execute_reply": "2024-02-07T13:19:53.875129Z"
    },
    "scrolled": false
   },
   "outputs": [
    {
     "name": "stdout",
     "output_type": "stream",
     "text": [
      "../germany_dataset/Train/32/00032_00002_00017.png\n",
      "../germany_dataset/Train/8/00008_00029_00017.png\n",
      "../germany_dataset/Train/15/00015_00014_00010.png\n",
      "../germany_dataset/Train/32/00032_00003_00007.png\n",
      "../germany_dataset/Train/20/00020_00008_00017.png\n"
     ]
    },
    {
     "data": {
      "image/png": "[encoded data removed]",
      "text/plain": [
       "<Figure size 720x1440 with 10 Axes>"
      ]
     },
     "metadata": {
      "needs_background": "light"
     },
     "output_type": "display_data"
    }
   ],
   "source": [
    "showExamples(df)"
   ]
  },
  {
   "cell_type": "code",
   "execution_count": 13,
   "id": "0950f020",
   "metadata": {
    "execution": {
     "iopub.execute_input": "2024-02-07T13:19:53.888862Z",
     "iopub.status.busy": "2024-02-07T13:19:53.886559Z",
     "iopub.status.idle": "2024-02-07T13:19:54.425675Z",
     "shell.execute_reply": "2024-02-07T13:19:54.422126Z"
    },
    "scrolled": false
   },
   "outputs": [
    {
     "name": "stdout",
     "output_type": "stream",
     "text": [
      "Model: \"sequential\"\n",
      "_________________________________________________________________\n",
      "Layer (type)                 Output Shape              Param #   \n",
      "=================================================================\n",
      "conv2d (Conv2D)              (None, 32, 32, 32)        4736      \n",
      "_________________________________________________________________\n",
      "max_pooling2d (MaxPooling2D) (None, 16, 16, 32)        0         \n",
      "_________________________________________________________________\n",
      "conv2d_1 (Conv2D)            (None, 16, 16, 64)        51264     \n",
      "_________________________________________________________________\n",
      "max_pooling2d_1 (MaxPooling2 (None, 8, 8, 64)          0         \n",
      "_________________________________________________________________\n",
      "flatten (Flatten)            (None, 4096)              0         \n",
      "_________________________________________________________________\n",
      "dense (Dense)                (None, 128)               524416    \n",
      "_________________________________________________________________\n",
      "dense_1 (Dense)              (None, 64)                8256      \n",
      "_________________________________________________________________\n",
      "dropout (Dropout)            (None, 64)                0         \n",
      "_________________________________________________________________\n",
      "dense_2 (Dense)              (None, 43)                2795      \n",
      "=================================================================\n",
      "Total params: 591,467\n",
      "Trainable params: 591,467\n",
      "Non-trainable params: 0\n",
      "_________________________________________________________________\n"
     ]
    }
   ],
   "source": [
    "# Load pre-trained ResNet50 model with random weights\n",
    "model = Sequential([\n",
    "    InputLayer(input_shape=(resize_x,resize_y,3)),\n",
    "    Conv2D(32, (7, 7), activation='relu',padding=\"same\"),\n",
    "    MaxPooling2D((2, 2)),\n",
    "    Conv2D(64, (5, 5), activation='relu',padding=\"same\"),\n",
    "    MaxPooling2D((2, 2)),\n",
    "    Flatten(),\n",
    "    Dense(128, activation='relu'),\n",
    "    Dense(64,activation='relu'),\n",
    "    Dropout(0.5),\n",
    "    Dense(num_of_classes, activation='softmax') \n",
    "])\n",
    "\n",
    "# Display the model summary\n",
    "model.summary()"
   ]
  },
  {
   "cell_type": "code",
   "execution_count": 14,
   "id": "053664ea",
   "metadata": {
    "execution": {
     "iopub.execute_input": "2024-02-07T13:19:54.437232Z",
     "iopub.status.busy": "2024-02-07T13:19:54.435895Z",
     "iopub.status.idle": "2024-02-07T13:19:54.441257Z",
     "shell.execute_reply": "2024-02-07T13:19:54.442286Z"
    }
   },
   "outputs": [
    {
     "name": "stdout",
     "output_type": "stream",
     "text": [
      "('You must install pydot (`pip install pydot`) and install graphviz (see instructions at https://graphviz.gitlab.io/download/) ', 'for plot_model/model_to_dot to work.')\n"
     ]
    }
   ],
   "source": [
    "plot_model(model, show_shapes=True, show_layer_names=True)"
   ]
  },
  {
   "cell_type": "code",
   "execution_count": 15,
   "id": "315ec5d3",
   "metadata": {
    "execution": {
     "iopub.execute_input": "2024-02-07T13:19:54.453748Z",
     "iopub.status.busy": "2024-02-07T13:19:54.451837Z",
     "iopub.status.idle": "2024-02-07T13:19:54.501854Z",
     "shell.execute_reply": "2024-02-07T13:19:54.502939Z"
    }
   },
   "outputs": [],
   "source": [
    "model.compile(optimizer='adam',\n",
    "              loss='sparse_categorical_crossentropy',\n",
    "              metrics=['accuracy'])"
   ]
  },
  {
   "cell_type": "code",
   "execution_count": 16,
   "id": "c424b372",
   "metadata": {
    "execution": {
     "iopub.execute_input": "2024-02-07T13:19:54.513891Z",
     "iopub.status.busy": "2024-02-07T13:19:54.512353Z",
     "iopub.status.idle": "2024-02-07T13:19:54.680187Z",
     "shell.execute_reply": "2024-02-07T13:19:54.681360Z"
    }
   },
   "outputs": [
    {
     "name": "stdout",
     "output_type": "stream",
     "text": [
      "int64\n",
      "object\n"
     ]
    }
   ],
   "source": [
    "print(df[\"ClassId\"].dtype)\n",
    "df[\"ClassId\"] = df[\"ClassId\"].astype(str)\n",
    "print(df[\"ClassId\"].dtype)"
   ]
  },
  {
   "cell_type": "code",
   "execution_count": 17,
   "id": "0978a79d",
   "metadata": {
    "execution": {
     "iopub.execute_input": "2024-02-07T13:19:54.692473Z",
     "iopub.status.busy": "2024-02-07T13:19:54.691329Z",
     "iopub.status.idle": "2024-02-07T13:19:54.718527Z",
     "shell.execute_reply": "2024-02-07T13:19:54.719429Z"
    }
   },
   "outputs": [
    {
     "data": {
      "text/html": [
       "<div>\n",
       "<style scoped>\n",
       "    .dataframe tbody tr th:only-of-type {\n",
       "        vertical-align: middle;\n",
       "    }\n",
       "\n",
       "    .dataframe tbody tr th {\n",
       "        vertical-align: top;\n",
       "    }\n",
       "\n",
       "    .dataframe thead th {\n",
       "        text-align: right;\n",
       "    }\n",
       "</style>\n",
       "<table border=\"1\" class=\"dataframe\">\n",
       "  <thead>\n",
       "    <tr style=\"text-align: right;\">\n",
       "      <th></th>\n",
       "      <th>Width</th>\n",
       "      <th>Height</th>\n",
       "      <th>Roi.X1</th>\n",
       "      <th>Roi.Y1</th>\n",
       "      <th>Roi.X2</th>\n",
       "      <th>Roi.Y2</th>\n",
       "      <th>Path</th>\n",
       "      <th>length</th>\n",
       "      <th>height</th>\n",
       "      <th>ClassId</th>\n",
       "    </tr>\n",
       "  </thead>\n",
       "  <tbody>\n",
       "    <tr>\n",
       "      <th>0</th>\n",
       "      <td>27</td>\n",
       "      <td>26</td>\n",
       "      <td>5</td>\n",
       "      <td>5</td>\n",
       "      <td>22</td>\n",
       "      <td>20</td>\n",
       "      <td>Train/20/00020_00000_00000.png</td>\n",
       "      <td>17</td>\n",
       "      <td>15</td>\n",
       "      <td>20</td>\n",
       "    </tr>\n",
       "    <tr>\n",
       "      <th>1</th>\n",
       "      <td>28</td>\n",
       "      <td>27</td>\n",
       "      <td>5</td>\n",
       "      <td>6</td>\n",
       "      <td>23</td>\n",
       "      <td>22</td>\n",
       "      <td>Train/20/00020_00000_00001.png</td>\n",
       "      <td>18</td>\n",
       "      <td>16</td>\n",
       "      <td>20</td>\n",
       "    </tr>\n",
       "    <tr>\n",
       "      <th>2</th>\n",
       "      <td>29</td>\n",
       "      <td>26</td>\n",
       "      <td>6</td>\n",
       "      <td>5</td>\n",
       "      <td>24</td>\n",
       "      <td>21</td>\n",
       "      <td>Train/20/00020_00000_00002.png</td>\n",
       "      <td>18</td>\n",
       "      <td>16</td>\n",
       "      <td>20</td>\n",
       "    </tr>\n",
       "    <tr>\n",
       "      <th>3</th>\n",
       "      <td>28</td>\n",
       "      <td>27</td>\n",
       "      <td>5</td>\n",
       "      <td>6</td>\n",
       "      <td>23</td>\n",
       "      <td>22</td>\n",
       "      <td>Train/20/00020_00000_00003.png</td>\n",
       "      <td>18</td>\n",
       "      <td>16</td>\n",
       "      <td>20</td>\n",
       "    </tr>\n",
       "    <tr>\n",
       "      <th>4</th>\n",
       "      <td>28</td>\n",
       "      <td>26</td>\n",
       "      <td>5</td>\n",
       "      <td>5</td>\n",
       "      <td>23</td>\n",
       "      <td>21</td>\n",
       "      <td>Train/20/00020_00000_00004.png</td>\n",
       "      <td>18</td>\n",
       "      <td>16</td>\n",
       "      <td>20</td>\n",
       "    </tr>\n",
       "  </tbody>\n",
       "</table>\n",
       "</div>"
      ],
      "text/plain": [
       "   Width  Height  Roi.X1  Roi.Y1  Roi.X2  Roi.Y2  \\\n",
       "0     27      26       5       5      22      20   \n",
       "1     28      27       5       6      23      22   \n",
       "2     29      26       6       5      24      21   \n",
       "3     28      27       5       6      23      22   \n",
       "4     28      26       5       5      23      21   \n",
       "\n",
       "                             Path  length  height ClassId  \n",
       "0  Train/20/00020_00000_00000.png      17      15      20  \n",
       "1  Train/20/00020_00000_00001.png      18      16      20  \n",
       "2  Train/20/00020_00000_00002.png      18      16      20  \n",
       "3  Train/20/00020_00000_00003.png      18      16      20  \n",
       "4  Train/20/00020_00000_00004.png      18      16      20  "
      ]
     },
     "execution_count": 1,
     "metadata": {},
     "output_type": "execute_result"
    }
   ],
   "source": [
    "df.head()"
   ]
  },
  {
   "cell_type": "code",
   "execution_count": 18,
   "id": "d118a376",
   "metadata": {
    "execution": {
     "iopub.execute_input": "2024-02-07T13:19:54.739062Z",
     "iopub.status.busy": "2024-02-07T13:19:54.736005Z",
     "iopub.status.idle": "2024-02-07T13:19:54.745137Z",
     "shell.execute_reply": "2024-02-07T13:19:54.746148Z"
    }
   },
   "outputs": [],
   "source": [
    "class CustomImageDataGenerator(ImageDataGenerator):\n",
    "    def __init__(self,dataframe, x1_col, y1_col, x2_col, y2_col, Path,directory, preprocessing_function=None, **kwargs):\n",
    "        super().__init__(preprocessing_function=preprocessing_function, **kwargs)\n",
    "        self.dataframe=dataframe\n",
    "        self.directory = directory\n",
    "        self.x1_col = x1_col\n",
    "        self.y1_col = y1_col\n",
    "        self.x2_col = x2_col\n",
    "        self.y2_col = y2_col\n",
    "        self.Path   = Path\n",
    "        \n",
    "\n",
    "    def flow_from_dataframe(self, *args, **kwargs):\n",
    "        generator = super().flow_from_dataframe(*args, **kwargs)\n",
    "        generator.Path = self.Path\n",
    "        return generator\n",
    "\n",
    "    def __getitem__(self, index):\n",
    "        # Override the __getitem__ method to load and preprocess images based on coordinates\n",
    "        current_batch = super().__getitem__(index)\n",
    "        \n",
    "        # Load original images and preprocess based on coordinates\n",
    "        for i in range(len(current_batch[0])):\n",
    "            x1 = self.dataframe[self.x1_col].iloc[index * self.batch_size + i]\n",
    "            y1 = self.dataframe[self.y1_col].iloc[index * self.batch_size + i]\n",
    "            x2 = self.dataframe[self.x2_col].iloc[index * self.batch_size + i]\n",
    "            y2 = self.dataframe[self.y2_col].iloc[index * self.batch_size + i]\n",
    "            original_image_path = self.dataframe[self.Path].iloc[index * self.batch_size + i]\n",
    "            original_image = Image.open(directory+original_image_path)\n",
    "            region = original_image.crop((x1, y1, x2, y2))\n",
    "            region_array = np.array(region)\n",
    "            \n",
    "            # Apply preprocessing_function if specified\n",
    "            if self.preprocessing_function:\n",
    "                region_array = self.preprocessing_function(region_array)\n",
    "\n",
    "            current_batch[0][i] = region_array\n",
    "\n",
    "        return current_batch"
   ]
  },
  {
   "cell_type": "code",
   "execution_count": 19,
   "id": "240af09c",
   "metadata": {
    "execution": {
     "iopub.execute_input": "2024-02-07T13:19:54.757578Z",
     "iopub.status.busy": "2024-02-07T13:19:54.754098Z",
     "iopub.status.idle": "2024-02-07T13:19:54.830912Z",
     "shell.execute_reply": "2024-02-07T13:19:54.831663Z"
    }
   },
   "outputs": [],
   "source": [
    "df = df.sample(frac=1, random_state=42).reset_index(drop=True)"
   ]
  },
  {
   "cell_type": "code",
   "execution_count": 20,
   "id": "ed3352d0",
   "metadata": {
    "execution": {
     "iopub.execute_input": "2024-02-07T13:19:54.837662Z",
     "iopub.status.busy": "2024-02-07T13:19:54.836514Z",
     "iopub.status.idle": "2024-02-07T13:19:54.859486Z",
     "shell.execute_reply": "2024-02-07T13:19:54.860408Z"
    }
   },
   "outputs": [
    {
     "data": {
      "text/html": [
       "<div>\n",
       "<style scoped>\n",
       "    .dataframe tbody tr th:only-of-type {\n",
       "        vertical-align: middle;\n",
       "    }\n",
       "\n",
       "    .dataframe tbody tr th {\n",
       "        vertical-align: top;\n",
       "    }\n",
       "\n",
       "    .dataframe thead th {\n",
       "        text-align: right;\n",
       "    }\n",
       "</style>\n",
       "<table border=\"1\" class=\"dataframe\">\n",
       "  <thead>\n",
       "    <tr style=\"text-align: right;\">\n",
       "      <th></th>\n",
       "      <th>Width</th>\n",
       "      <th>Height</th>\n",
       "      <th>Roi.X1</th>\n",
       "      <th>Roi.Y1</th>\n",
       "      <th>Roi.X2</th>\n",
       "      <th>Roi.Y2</th>\n",
       "      <th>Path</th>\n",
       "      <th>length</th>\n",
       "      <th>height</th>\n",
       "      <th>ClassId</th>\n",
       "    </tr>\n",
       "  </thead>\n",
       "  <tbody>\n",
       "    <tr>\n",
       "      <th>0</th>\n",
       "      <td>29</td>\n",
       "      <td>28</td>\n",
       "      <td>6</td>\n",
       "      <td>5</td>\n",
       "      <td>23</td>\n",
       "      <td>22</td>\n",
       "      <td>Train/42/00042_00005_00005.png</td>\n",
       "      <td>17</td>\n",
       "      <td>17</td>\n",
       "      <td>42</td>\n",
       "    </tr>\n",
       "    <tr>\n",
       "      <th>1</th>\n",
       "      <td>30</td>\n",
       "      <td>31</td>\n",
       "      <td>5</td>\n",
       "      <td>6</td>\n",
       "      <td>25</td>\n",
       "      <td>26</td>\n",
       "      <td>Train/10/00010_00028_00005.png</td>\n",
       "      <td>20</td>\n",
       "      <td>20</td>\n",
       "      <td>10</td>\n",
       "    </tr>\n",
       "    <tr>\n",
       "      <th>2</th>\n",
       "      <td>70</td>\n",
       "      <td>69</td>\n",
       "      <td>7</td>\n",
       "      <td>6</td>\n",
       "      <td>64</td>\n",
       "      <td>63</td>\n",
       "      <td>Train/36/00036_00002_00025.png</td>\n",
       "      <td>57</td>\n",
       "      <td>57</td>\n",
       "      <td>36</td>\n",
       "    </tr>\n",
       "    <tr>\n",
       "      <th>3</th>\n",
       "      <td>32</td>\n",
       "      <td>33</td>\n",
       "      <td>5</td>\n",
       "      <td>6</td>\n",
       "      <td>27</td>\n",
       "      <td>28</td>\n",
       "      <td>Train/41/00041_00000_00007.png</td>\n",
       "      <td>22</td>\n",
       "      <td>22</td>\n",
       "      <td>41</td>\n",
       "    </tr>\n",
       "    <tr>\n",
       "      <th>4</th>\n",
       "      <td>50</td>\n",
       "      <td>51</td>\n",
       "      <td>5</td>\n",
       "      <td>6</td>\n",
       "      <td>45</td>\n",
       "      <td>46</td>\n",
       "      <td>Train/40/00040_00005_00000.png</td>\n",
       "      <td>40</td>\n",
       "      <td>40</td>\n",
       "      <td>40</td>\n",
       "    </tr>\n",
       "  </tbody>\n",
       "</table>\n",
       "</div>"
      ],
      "text/plain": [
       "   Width  Height  Roi.X1  Roi.Y1  Roi.X2  Roi.Y2  \\\n",
       "0     29      28       6       5      23      22   \n",
       "1     30      31       5       6      25      26   \n",
       "2     70      69       7       6      64      63   \n",
       "3     32      33       5       6      27      28   \n",
       "4     50      51       5       6      45      46   \n",
       "\n",
       "                             Path  length  height ClassId  \n",
       "0  Train/42/00042_00005_00005.png      17      17      42  \n",
       "1  Train/10/00010_00028_00005.png      20      20      10  \n",
       "2  Train/36/00036_00002_00025.png      57      57      36  \n",
       "3  Train/41/00041_00000_00007.png      22      22      41  \n",
       "4  Train/40/00040_00005_00000.png      40      40      40  "
      ]
     },
     "execution_count": 1,
     "metadata": {},
     "output_type": "execute_result"
    }
   ],
   "source": [
    "df.head()"
   ]
  },
  {
   "cell_type": "code",
   "execution_count": 21,
   "id": "e3686a3d",
   "metadata": {
    "execution": {
     "iopub.execute_input": "2024-02-07T13:19:54.876907Z",
     "iopub.status.busy": "2024-02-07T13:19:54.875305Z",
     "iopub.status.idle": "2024-02-07T13:19:57.970517Z",
     "shell.execute_reply": "2024-02-07T13:19:57.971472Z"
    }
   },
   "outputs": [
    {
     "name": "stdout",
     "output_type": "stream",
     "text": [
      "Found 77400 validated image filenames belonging to 43 classes.\n",
      "Found 19350 validated image filenames belonging to 43 classes.\n"
     ]
    }
   ],
   "source": [
    "datagen  = CustomImageDataGenerator(\n",
    "    df,\n",
    "    \"Roi.X1\",\n",
    "    \"Roi.Y1\",\n",
    "    \"Roi.X2\",\n",
    "    \"Roi.Y2\",\n",
    "    \"Path\",\n",
    "    directory,\n",
    "    rescale=1./255,  \n",
    "    rotation_range=20,  \n",
    "    width_shift_range=0.2,  \n",
    "    height_shift_range=0.2,\n",
    "    shear_range=0.2,  \n",
    "    zoom_range=0.2,  \n",
    "    horizontal_flip=True,  \n",
    "    fill_mode='nearest'  ,\n",
    "    validation_split = 0.2,\n",
    "    samplewise_center=True\n",
    ")\n",
    "\n",
    "train_generator = datagen.flow_from_dataframe(\n",
    "     df,\n",
    "    x_col='Path',\n",
    "    y_col=\"ClassId\",\n",
    "    target_size=(resize_x,resize_y),\n",
    "    batch_size=32,\n",
    "     directory=directory,\n",
    "    class_mode='sparse',\n",
    "    subset='training'\n",
    ")\n",
    "\n",
    "val_generator = datagen.flow_from_dataframe(\n",
    "  df,\n",
    "    x_col='Path',\n",
    "    y_col=\"ClassId\",\n",
    "    target_size=(resize_x,resize_y),\n",
    "    batch_size=32,\n",
    "     directory=directory,\n",
    "    class_mode='sparse',\n",
    "    subset='validation'\n",
    ")"
   ]
  },
  {
   "cell_type": "code",
   "execution_count": 22,
   "id": "ef021053",
   "metadata": {
    "execution": {
     "iopub.execute_input": "2024-02-07T13:19:57.990373Z",
     "iopub.status.busy": "2024-02-07T13:19:57.982188Z",
     "iopub.status.idle": "2024-02-07T15:03:09.631198Z",
     "shell.execute_reply": "2024-02-07T15:03:09.632048Z"
    },
    "scrolled": false
   },
   "outputs": [
    {
     "name": "stdout",
     "output_type": "stream",
     "text": [
      "Epoch 1/25\n",
      "2419/2419 [==============================] - 204s 84ms/step - loss: 2.2371 - accuracy: 0.3062 - val_loss: 1.2318 - val_accuracy: 0.5875\n",
      "Epoch 2/25\n",
      "2419/2419 [==============================] - 210s 87ms/step - loss: 1.2327 - accuracy: 0.5730 - val_loss: 0.8323 - val_accuracy: 0.7128\n",
      "Epoch 3/25\n",
      "2419/2419 [==============================] - 245s 101ms/step - loss: 0.9117 - accuracy: 0.6828 - val_loss: 0.6098 - val_accuracy: 0.7891\n",
      "Epoch 4/25\n",
      "2419/2419 [==============================] - 239s 99ms/step - loss: 0.7518 - accuracy: 0.7408 - val_loss: 0.4874 - val_accuracy: 0.8245\n",
      "Epoch 5/25\n",
      "2419/2419 [==============================] - 237s 98ms/step - loss: 0.6470 - accuracy: 0.7791 - val_loss: 0.4400 - val_accuracy: 0.8459\n",
      "Epoch 6/25\n",
      "2419/2419 [==============================] - 244s 101ms/step - loss: 0.5847 - accuracy: 0.8011 - val_loss: 0.3943 - val_accuracy: 0.8612\n",
      "Epoch 7/25\n",
      "2419/2419 [==============================] - 246s 102ms/step - loss: 0.5254 - accuracy: 0.8228 - val_loss: 0.3391 - val_accuracy: 0.8802\n",
      "Epoch 8/25\n",
      "2419/2419 [==============================] - 241s 100ms/step - loss: 0.4949 - accuracy: 0.8354 - val_loss: 0.3639 - val_accuracy: 0.8752\n",
      "Epoch 9/25\n",
      "2419/2419 [==============================] - 260s 108ms/step - loss: 0.4679 - accuracy: 0.8454 - val_loss: 0.3477 - val_accuracy: 0.8833\n",
      "Epoch 10/25\n",
      "2419/2419 [==============================] - 253s 105ms/step - loss: 0.4370 - accuracy: 0.8576 - val_loss: 0.2913 - val_accuracy: 0.8997\n",
      "Epoch 11/25\n",
      "2419/2419 [==============================] - 293s 121ms/step - loss: 0.4166 - accuracy: 0.8638 - val_loss: 0.2698 - val_accuracy: 0.9063\n",
      "Epoch 12/25\n",
      "2419/2419 [==============================] - 259s 107ms/step - loss: 0.3908 - accuracy: 0.8747 - val_loss: 0.2569 - val_accuracy: 0.9145\n",
      "Epoch 13/25\n",
      "2419/2419 [==============================] - 250s 103ms/step - loss: 0.3941 - accuracy: 0.8745 - val_loss: 0.2427 - val_accuracy: 0.9157\n",
      "Epoch 14/25\n",
      "2419/2419 [==============================] - 261s 108ms/step - loss: 0.3673 - accuracy: 0.8828 - val_loss: 0.2296 - val_accuracy: 0.9226\n",
      "Epoch 15/25\n",
      "2419/2419 [==============================] - 264s 109ms/step - loss: 0.3555 - accuracy: 0.8873 - val_loss: 0.2210 - val_accuracy: 0.9265\n",
      "Epoch 16/25\n",
      "2419/2419 [==============================] - 226s 93ms/step - loss: 0.3496 - accuracy: 0.8896 - val_loss: 0.2232 - val_accuracy: 0.9266\n",
      "Epoch 17/25\n",
      "2419/2419 [==============================] - 214s 89ms/step - loss: 0.3279 - accuracy: 0.8965 - val_loss: 0.2282 - val_accuracy: 0.9278\n",
      "Epoch 18/25\n",
      "2419/2419 [==============================] - 213s 88ms/step - loss: 0.3318 - accuracy: 0.8976 - val_loss: 0.2113 - val_accuracy: 0.9332\n",
      "Epoch 19/25\n",
      "2419/2419 [==============================] - 206s 85ms/step - loss: 0.3145 - accuracy: 0.9020 - val_loss: 0.1946 - val_accuracy: 0.9336\n",
      "Epoch 20/25\n",
      "2419/2419 [==============================] - 210s 87ms/step - loss: 0.3085 - accuracy: 0.9064 - val_loss: 0.1947 - val_accuracy: 0.9354\n",
      "Epoch 21/25\n",
      "2419/2419 [==============================] - 211s 87ms/step - loss: 0.2988 - accuracy: 0.9083 - val_loss: 0.2218 - val_accuracy: 0.9295\n",
      "Epoch 22/25\n",
      "2419/2419 [==============================] - 218s 90ms/step - loss: 0.2940 - accuracy: 0.9105 - val_loss: 0.1653 - val_accuracy: 0.9441\n",
      "Epoch 23/25\n",
      "2419/2419 [==============================] - 208s 86ms/step - loss: 0.2875 - accuracy: 0.9123 - val_loss: 0.1797 - val_accuracy: 0.9448\n",
      "Epoch 24/25\n",
      "2419/2419 [==============================] - 211s 87ms/step - loss: 0.2889 - accuracy: 0.9141 - val_loss: 0.2030 - val_accuracy: 0.9343\n",
      "Epoch 25/25\n",
      "2419/2419 [==============================] - 212s 88ms/step - loss: 0.2735 - accuracy: 0.9170 - val_loss: 0.1985 - val_accuracy: 0.9422\n",
      "Time taken fit :  103.19392639001211  min\n"
     ]
    }
   ],
   "source": [
    "starting_time = time.time()\n",
    "\n",
    "history = model.fit( train_generator,\n",
    "    steps_per_epoch=len(train_generator),\n",
    "    epochs=Epochs,\n",
    "    validation_data=val_generator,\n",
    "    validation_steps=len(val_generator)\n",
    ")\n",
    "\n",
    "ending_time = time.time()\n",
    "total_time = ending_time - starting_time\n",
    "total_time/=60\n",
    "\n",
    "print(\"Time taken fit : \",total_time,\" min\")"
   ]
  },
  {
   "cell_type": "code",
   "execution_count": 23,
   "id": "2efa9533",
   "metadata": {
    "execution": {
     "iopub.execute_input": "2024-02-07T15:03:09.642481Z",
     "iopub.status.busy": "2024-02-07T15:03:09.641283Z",
     "iopub.status.idle": "2024-02-07T15:03:09.646310Z",
     "shell.execute_reply": "2024-02-07T15:03:09.647284Z"
    }
   },
   "outputs": [],
   "source": [
    "#Saving the model\n",
    "# model.save(filename)"
   ]
  },
  {
   "cell_type": "code",
   "execution_count": 24,
   "id": "b4ae5236",
   "metadata": {
    "execution": {
     "iopub.execute_input": "2024-02-07T15:03:09.659316Z",
     "iopub.status.busy": "2024-02-07T15:03:09.657273Z",
     "iopub.status.idle": "2024-02-07T15:03:09.662619Z",
     "shell.execute_reply": "2024-02-07T15:03:09.663471Z"
    }
   },
   "outputs": [],
   "source": [
    "training_accuracy = history.history['accuracy']\n",
    "validation_accuracy = history.history['val_accuracy']\n",
    "loss = history.history['loss']\n",
    "val_loss = history.history['val_loss']"
   ]
  },
  {
   "cell_type": "code",
   "execution_count": 25,
   "id": "23ffa10a",
   "metadata": {
    "execution": {
     "iopub.execute_input": "2024-02-07T15:03:09.676500Z",
     "iopub.status.busy": "2024-02-07T15:03:09.670509Z",
     "iopub.status.idle": "2024-02-07T15:03:10.051685Z",
     "shell.execute_reply": "2024-02-07T15:03:10.053075Z"
    }
   },
   "outputs": [
    {
     "data": {
      "text/plain": [
       "<matplotlib.legend.Legend at 0x7f3b76f89da0>"
      ]
     },
     "execution_count": 1,
     "metadata": {},
     "output_type": "execute_result"
    },
    {
     "data": {
      "image/png": "[encoded data removed]",
      "text/plain": [
       "<Figure size 720x360 with 1 Axes>"
      ]
     },
     "metadata": {
      "needs_background": "light"
     },
     "output_type": "display_data"
    }
   ],
   "source": [
    "epochs  = [x for x in range(Epochs)]\n",
    "plt.figure(figsize=(10,5))\n",
    "plt.plot(epochs,training_accuracy,color=\"blue\",label=\"Training Accuracy\")\n",
    "plt.plot(epochs,validation_accuracy,color=\"red\",label=\"Validation Accuracy\")\n",
    "plt.xlabel('Epochs')\n",
    "plt.ylabel('Accuracy')\n",
    "plt.legend()"
   ]
  },
  {
   "cell_type": "code",
   "execution_count": 26,
   "id": "f44e83d0",
   "metadata": {
    "execution": {
     "iopub.execute_input": "2024-02-07T15:03:10.099723Z",
     "iopub.status.busy": "2024-02-07T15:03:10.098074Z",
     "iopub.status.idle": "2024-02-07T15:03:10.422801Z",
     "shell.execute_reply": "2024-02-07T15:03:10.424011Z"
    }
   },
   "outputs": [
    {
     "data": {
      "text/plain": [
       "<matplotlib.legend.Legend at 0x7f3b77588978>"
      ]
     },
     "execution_count": 1,
     "metadata": {},
     "output_type": "execute_result"
    },
    {
     "data": {
      "image/png": "[encoded data removed]",
      "text/plain": [
       "<Figure size 720x360 with 1 Axes>"
      ]
     },
     "metadata": {
      "needs_background": "light"
     },
     "output_type": "display_data"
    }
   ],
   "source": [
    "epochs  = [x for x in range(Epochs)]\n",
    "plt.figure(figsize=(10,5))\n",
    "plt.plot(epochs,loss,color=\"blue\",label=\"training loss\")\n",
    "plt.plot(epochs,val_loss,color=\"red\",label=\"validation loss\")\n",
    "plt.xlabel('Epochs')\n",
    "plt.ylabel('Loss')\n",
    "plt.legend()"
   ]
  },
  {
   "cell_type": "markdown",
   "id": "a710fcbe",
   "metadata": {},
   "source": [
    " ***Test Image Classification and Accuracy Calculation***"
   ]
  },
  {
   "cell_type": "code",
   "execution_count": 27,
   "id": "4bafecba",
   "metadata": {
    "execution": {
     "iopub.execute_input": "2024-02-07T15:03:10.437477Z",
     "iopub.status.busy": "2024-02-07T15:03:10.436136Z",
     "iopub.status.idle": "2024-02-07T15:03:10.444533Z",
     "shell.execute_reply": "2024-02-07T15:03:10.445423Z"
    }
   },
   "outputs": [],
   "source": [
    "#Loading weights into CNN model \n",
    "# model = tf.keras.models.load_model(\"CNN_SimpleLayered\")"
   ]
  },
  {
   "cell_type": "code",
   "execution_count": 28,
   "id": "a5193aab",
   "metadata": {
    "execution": {
     "iopub.execute_input": "2024-02-07T15:03:10.453654Z",
     "iopub.status.busy": "2024-02-07T15:03:10.449520Z",
     "iopub.status.idle": "2024-02-07T15:03:10.564725Z",
     "shell.execute_reply": "2024-02-07T15:03:10.567103Z"
    }
   },
   "outputs": [
    {
     "name": "stdout",
     "output_type": "stream",
     "text": [
      "Number of Test Images are  12630\n"
     ]
    },
    {
     "data": {
      "text/html": [
       "<div>\n",
       "<style scoped>\n",
       "    .dataframe tbody tr th:only-of-type {\n",
       "        vertical-align: middle;\n",
       "    }\n",
       "\n",
       "    .dataframe tbody tr th {\n",
       "        vertical-align: top;\n",
       "    }\n",
       "\n",
       "    .dataframe thead th {\n",
       "        text-align: right;\n",
       "    }\n",
       "</style>\n",
       "<table border=\"1\" class=\"dataframe\">\n",
       "  <thead>\n",
       "    <tr style=\"text-align: right;\">\n",
       "      <th></th>\n",
       "      <th>Width</th>\n",
       "      <th>Height</th>\n",
       "      <th>Roi.X1</th>\n",
       "      <th>Roi.Y1</th>\n",
       "      <th>Roi.X2</th>\n",
       "      <th>Roi.Y2</th>\n",
       "      <th>ClassId</th>\n",
       "      <th>Path</th>\n",
       "    </tr>\n",
       "  </thead>\n",
       "  <tbody>\n",
       "    <tr>\n",
       "      <th>0</th>\n",
       "      <td>53</td>\n",
       "      <td>54</td>\n",
       "      <td>6</td>\n",
       "      <td>5</td>\n",
       "      <td>48</td>\n",
       "      <td>49</td>\n",
       "      <td>16</td>\n",
       "      <td>Test/00000.png</td>\n",
       "    </tr>\n",
       "    <tr>\n",
       "      <th>1</th>\n",
       "      <td>42</td>\n",
       "      <td>45</td>\n",
       "      <td>5</td>\n",
       "      <td>5</td>\n",
       "      <td>36</td>\n",
       "      <td>40</td>\n",
       "      <td>1</td>\n",
       "      <td>Test/00001.png</td>\n",
       "    </tr>\n",
       "    <tr>\n",
       "      <th>2</th>\n",
       "      <td>48</td>\n",
       "      <td>52</td>\n",
       "      <td>6</td>\n",
       "      <td>6</td>\n",
       "      <td>43</td>\n",
       "      <td>47</td>\n",
       "      <td>38</td>\n",
       "      <td>Test/00002.png</td>\n",
       "    </tr>\n",
       "    <tr>\n",
       "      <th>3</th>\n",
       "      <td>27</td>\n",
       "      <td>29</td>\n",
       "      <td>5</td>\n",
       "      <td>5</td>\n",
       "      <td>22</td>\n",
       "      <td>24</td>\n",
       "      <td>33</td>\n",
       "      <td>Test/00003.png</td>\n",
       "    </tr>\n",
       "    <tr>\n",
       "      <th>4</th>\n",
       "      <td>60</td>\n",
       "      <td>57</td>\n",
       "      <td>5</td>\n",
       "      <td>5</td>\n",
       "      <td>55</td>\n",
       "      <td>52</td>\n",
       "      <td>11</td>\n",
       "      <td>Test/00004.png</td>\n",
       "    </tr>\n",
       "  </tbody>\n",
       "</table>\n",
       "</div>"
      ],
      "text/plain": [
       "   Width  Height  Roi.X1  Roi.Y1  Roi.X2  Roi.Y2 ClassId            Path\n",
       "0     53      54       6       5      48      49      16  Test/00000.png\n",
       "1     42      45       5       5      36      40       1  Test/00001.png\n",
       "2     48      52       6       6      43      47      38  Test/00002.png\n",
       "3     27      29       5       5      22      24      33  Test/00003.png\n",
       "4     60      57       5       5      55      52      11  Test/00004.png"
      ]
     },
     "execution_count": 1,
     "metadata": {},
     "output_type": "execute_result"
    }
   ],
   "source": [
    "df_test = pd.read_csv(testdir)\n",
    "df_test[\"ClassId\"] =df_test[\"ClassId\"].astype(str)\n",
    "print(\"Number of Test Images are \", len(df_test))\n",
    "df_test.dropna()\n",
    "df_test.head()"
   ]
  },
  {
   "cell_type": "code",
   "execution_count": 29,
   "id": "9967dd42",
   "metadata": {
    "execution": {
     "iopub.execute_input": "2024-02-07T15:03:10.584981Z",
     "iopub.status.busy": "2024-02-07T15:03:10.583600Z",
     "iopub.status.idle": "2024-02-07T15:03:12.235776Z",
     "shell.execute_reply": "2024-02-07T15:03:12.234502Z"
    }
   },
   "outputs": [
    {
     "name": "stdout",
     "output_type": "stream",
     "text": [
      "Total Training Examples :  12630\n"
     ]
    },
    {
     "data": {
      "image/png": "[encoded data removed]",
      "text/plain": [
       "<Figure size 1080x432 with 1 Axes>"
      ]
     },
     "metadata": {
      "needs_background": "light"
     },
     "output_type": "display_data"
    }
   ],
   "source": [
    "viewStatistics(df_test)"
   ]
  },
  {
   "cell_type": "code",
   "execution_count": 30,
   "id": "9c4a419a",
   "metadata": {
    "execution": {
     "iopub.execute_input": "2024-02-07T15:03:12.256236Z",
     "iopub.status.busy": "2024-02-07T15:03:12.254914Z",
     "iopub.status.idle": "2024-02-07T15:03:12.265496Z",
     "shell.execute_reply": "2024-02-07T15:03:12.266618Z"
    }
   },
   "outputs": [
    {
     "data": {
      "text/html": [
       "<div>\n",
       "<style scoped>\n",
       "    .dataframe tbody tr th:only-of-type {\n",
       "        vertical-align: middle;\n",
       "    }\n",
       "\n",
       "    .dataframe tbody tr th {\n",
       "        vertical-align: top;\n",
       "    }\n",
       "\n",
       "    .dataframe thead th {\n",
       "        text-align: right;\n",
       "    }\n",
       "</style>\n",
       "<table border=\"1\" class=\"dataframe\">\n",
       "  <thead>\n",
       "    <tr style=\"text-align: right;\">\n",
       "      <th></th>\n",
       "      <th>Width</th>\n",
       "      <th>Height</th>\n",
       "      <th>Roi.X1</th>\n",
       "      <th>Roi.Y1</th>\n",
       "      <th>Roi.X2</th>\n",
       "      <th>Roi.Y2</th>\n",
       "      <th>ClassId</th>\n",
       "      <th>Path</th>\n",
       "    </tr>\n",
       "  </thead>\n",
       "  <tbody>\n",
       "    <tr>\n",
       "      <th>0</th>\n",
       "      <td>53</td>\n",
       "      <td>54</td>\n",
       "      <td>6</td>\n",
       "      <td>5</td>\n",
       "      <td>48</td>\n",
       "      <td>49</td>\n",
       "      <td>16</td>\n",
       "      <td>Test/00000.png</td>\n",
       "    </tr>\n",
       "    <tr>\n",
       "      <th>1</th>\n",
       "      <td>42</td>\n",
       "      <td>45</td>\n",
       "      <td>5</td>\n",
       "      <td>5</td>\n",
       "      <td>36</td>\n",
       "      <td>40</td>\n",
       "      <td>1</td>\n",
       "      <td>Test/00001.png</td>\n",
       "    </tr>\n",
       "    <tr>\n",
       "      <th>2</th>\n",
       "      <td>48</td>\n",
       "      <td>52</td>\n",
       "      <td>6</td>\n",
       "      <td>6</td>\n",
       "      <td>43</td>\n",
       "      <td>47</td>\n",
       "      <td>38</td>\n",
       "      <td>Test/00002.png</td>\n",
       "    </tr>\n",
       "    <tr>\n",
       "      <th>3</th>\n",
       "      <td>27</td>\n",
       "      <td>29</td>\n",
       "      <td>5</td>\n",
       "      <td>5</td>\n",
       "      <td>22</td>\n",
       "      <td>24</td>\n",
       "      <td>33</td>\n",
       "      <td>Test/00003.png</td>\n",
       "    </tr>\n",
       "    <tr>\n",
       "      <th>4</th>\n",
       "      <td>60</td>\n",
       "      <td>57</td>\n",
       "      <td>5</td>\n",
       "      <td>5</td>\n",
       "      <td>55</td>\n",
       "      <td>52</td>\n",
       "      <td>11</td>\n",
       "      <td>Test/00004.png</td>\n",
       "    </tr>\n",
       "  </tbody>\n",
       "</table>\n",
       "</div>"
      ],
      "text/plain": [
       "   Width  Height  Roi.X1  Roi.Y1  Roi.X2  Roi.Y2 ClassId            Path\n",
       "0     53      54       6       5      48      49      16  Test/00000.png\n",
       "1     42      45       5       5      36      40       1  Test/00001.png\n",
       "2     48      52       6       6      43      47      38  Test/00002.png\n",
       "3     27      29       5       5      22      24      33  Test/00003.png\n",
       "4     60      57       5       5      55      52      11  Test/00004.png"
      ]
     },
     "execution_count": 1,
     "metadata": {},
     "output_type": "execute_result"
    }
   ],
   "source": [
    "df_test.head()"
   ]
  },
  {
   "cell_type": "code",
   "execution_count": 31,
   "id": "69c3e172",
   "metadata": {
    "execution": {
     "iopub.execute_input": "2024-02-07T15:03:12.279600Z",
     "iopub.status.busy": "2024-02-07T15:03:12.277747Z",
     "iopub.status.idle": "2024-02-07T15:03:14.435833Z",
     "shell.execute_reply": "2024-02-07T15:03:14.434668Z"
    }
   },
   "outputs": [
    {
     "data": {
      "image/png": "[encoded data removed]",
      "text/plain": [
       "<Figure size 720x1440 with 10 Axes>"
      ]
     },
     "metadata": {
      "needs_background": "light"
     },
     "output_type": "display_data"
    }
   ],
   "source": [
    "showTestExamples(df_test)"
   ]
  },
  {
   "cell_type": "code",
   "execution_count": 32,
   "id": "cd61f3f9",
   "metadata": {
    "execution": {
     "iopub.execute_input": "2024-02-07T15:03:14.463503Z",
     "iopub.status.busy": "2024-02-07T15:03:14.461995Z",
     "iopub.status.idle": "2024-02-07T15:03:14.620674Z",
     "shell.execute_reply": "2024-02-07T15:03:14.619109Z"
    }
   },
   "outputs": [],
   "source": [
    "X = df_test.drop(Y_col_name, axis=1)\n",
    "y = df_test[Y_col_name]\n",
    "oversampler = RandomOverSampler(sampling_strategy='auto', random_state=42)\n",
    "\n",
    "# Fit and apply the oversampler to the data\n",
    "X_resampled, y_resampled = oversampler.fit_resample(X, y)\n",
    "\n",
    "df_test = pd.DataFrame(X_resampled, columns=X.columns)\n",
    "df_test[Y_col_name] = y_resampled\n",
    "df_test[Y_col_name] = df_test[Y_col_name].astype(str)"
   ]
  },
  {
   "cell_type": "code",
   "execution_count": 33,
   "id": "e2dcfa93",
   "metadata": {
    "execution": {
     "iopub.execute_input": "2024-02-07T15:03:14.627751Z",
     "iopub.status.busy": "2024-02-07T15:03:14.626601Z",
     "iopub.status.idle": "2024-02-07T15:03:15.164600Z",
     "shell.execute_reply": "2024-02-07T15:03:15.163434Z"
    }
   },
   "outputs": [
    {
     "name": "stdout",
     "output_type": "stream",
     "text": [
      "Found 32250 validated image filenames belonging to 43 classes.\n"
     ]
    }
   ],
   "source": [
    "test_datagen = CustomImageDataGenerator(df_test,\"Roi.X1\",\n",
    "                                   \"Roi.Y1\",\n",
    "                                   \"Roi.X2\",\n",
    "                                   \"Roi.Y2\",\n",
    "                                   \"Path\",\n",
    "                                   directory,\n",
    "                                   rescale=1./255)  # You can add other preprocessing options as needed\n",
    "\n",
    "batch_size = 32  # Adjust based on your requirements\n",
    "\n",
    "test_generator = test_datagen.flow_from_dataframe(\n",
    "    df_test,\n",
    "    x_col='Path',\n",
    "    y_col='ClassId',\n",
    "    directory=directory,\n",
    "    target_size=(resize_x, resize_y),  # Adjust based on your model's input size\n",
    "    batch_size=batch_size,\n",
    "    class_mode='sparse',  # Adjust based on your task\n",
    "    shuffle=False  # Set to False for testing to maintain the order\n",
    ")"
   ]
  },
  {
   "cell_type": "code",
   "execution_count": 34,
   "id": "86f1ea63",
   "metadata": {
    "execution": {
     "iopub.execute_input": "2024-02-07T15:03:15.187352Z",
     "iopub.status.busy": "2024-02-07T15:03:15.185150Z",
     "iopub.status.idle": "2024-02-07T15:03:41.982057Z",
     "shell.execute_reply": "2024-02-07T15:03:41.982869Z"
    }
   },
   "outputs": [],
   "source": [
    "y_test = test_generator.classes\n",
    "pred = model.predict(test_generator)\n",
    "y_pred = np.argmax(pred, axis=1)"
   ]
  },
  {
   "cell_type": "code",
   "execution_count": 35,
   "id": "691433cd",
   "metadata": {
    "execution": {
     "iopub.execute_input": "2024-02-07T15:03:42.003192Z",
     "iopub.status.busy": "2024-02-07T15:03:42.001752Z",
     "iopub.status.idle": "2024-02-07T15:03:42.206518Z",
     "shell.execute_reply": "2024-02-07T15:03:42.207674Z"
    }
   },
   "outputs": [
    {
     "name": "stdout",
     "output_type": "stream",
     "text": [
      "Total Accuracy:  76.52093023255814\n",
      "\n",
      "Confusion Matrix:\n",
      " [[252 103   0 ...   0  64   0]\n",
      " [  0 548   0 ...   6   4   0]\n",
      " [  0   0 679 ...  18   5   5]\n",
      " ...\n",
      " [  0   9   0 ... 696   5   2]\n",
      " [  0  12   0 ... 206 396   0]\n",
      " [  0   0   4 ...   1   0 728]]\n",
      "\n",
      "\n",
      "\n",
      " Summarizing the results : \n"
     ]
    },
    {
     "data": {
      "text/html": [
       "<div>\n",
       "<style scoped>\n",
       "    .dataframe tbody tr th:only-of-type {\n",
       "        vertical-align: middle;\n",
       "    }\n",
       "\n",
       "    .dataframe tbody tr th {\n",
       "        vertical-align: top;\n",
       "    }\n",
       "\n",
       "    .dataframe thead th {\n",
       "        text-align: right;\n",
       "    }\n",
       "</style>\n",
       "<table border=\"1\" class=\"dataframe\">\n",
       "  <thead>\n",
       "    <tr style=\"text-align: right;\">\n",
       "      <th></th>\n",
       "      <th>Class</th>\n",
       "      <th>Precision</th>\n",
       "      <th>Recall</th>\n",
       "      <th>F1-Score</th>\n",
       "      <th>Support</th>\n",
       "    </tr>\n",
       "  </thead>\n",
       "  <tbody>\n",
       "    <tr>\n",
       "      <th>0</th>\n",
       "      <td>0</td>\n",
       "      <td>1.00</td>\n",
       "      <td>0.34</td>\n",
       "      <td>0.50</td>\n",
       "      <td>750</td>\n",
       "    </tr>\n",
       "    <tr>\n",
       "      <th>1</th>\n",
       "      <td>1</td>\n",
       "      <td>0.73</td>\n",
       "      <td>0.73</td>\n",
       "      <td>0.73</td>\n",
       "      <td>750</td>\n",
       "    </tr>\n",
       "    <tr>\n",
       "      <th>2</th>\n",
       "      <td>2</td>\n",
       "      <td>0.97</td>\n",
       "      <td>0.91</td>\n",
       "      <td>0.94</td>\n",
       "      <td>750</td>\n",
       "    </tr>\n",
       "    <tr>\n",
       "      <th>3</th>\n",
       "      <td>3</td>\n",
       "      <td>0.91</td>\n",
       "      <td>0.94</td>\n",
       "      <td>0.92</td>\n",
       "      <td>750</td>\n",
       "    </tr>\n",
       "    <tr>\n",
       "      <th>4</th>\n",
       "      <td>4</td>\n",
       "      <td>0.98</td>\n",
       "      <td>0.91</td>\n",
       "      <td>0.94</td>\n",
       "      <td>750</td>\n",
       "    </tr>\n",
       "    <tr>\n",
       "      <th>5</th>\n",
       "      <td>5</td>\n",
       "      <td>0.98</td>\n",
       "      <td>0.93</td>\n",
       "      <td>0.95</td>\n",
       "      <td>750</td>\n",
       "    </tr>\n",
       "    <tr>\n",
       "      <th>6</th>\n",
       "      <td>6</td>\n",
       "      <td>0.96</td>\n",
       "      <td>0.97</td>\n",
       "      <td>0.97</td>\n",
       "      <td>750</td>\n",
       "    </tr>\n",
       "    <tr>\n",
       "      <th>7</th>\n",
       "      <td>7</td>\n",
       "      <td>0.99</td>\n",
       "      <td>0.96</td>\n",
       "      <td>0.97</td>\n",
       "      <td>750</td>\n",
       "    </tr>\n",
       "    <tr>\n",
       "      <th>8</th>\n",
       "      <td>8</td>\n",
       "      <td>0.96</td>\n",
       "      <td>1.00</td>\n",
       "      <td>0.98</td>\n",
       "      <td>750</td>\n",
       "    </tr>\n",
       "    <tr>\n",
       "      <th>9</th>\n",
       "      <td>9</td>\n",
       "      <td>0.95</td>\n",
       "      <td>0.98</td>\n",
       "      <td>0.97</td>\n",
       "      <td>750</td>\n",
       "    </tr>\n",
       "    <tr>\n",
       "      <th>10</th>\n",
       "      <td>10</td>\n",
       "      <td>0.65</td>\n",
       "      <td>0.86</td>\n",
       "      <td>0.74</td>\n",
       "      <td>750</td>\n",
       "    </tr>\n",
       "    <tr>\n",
       "      <th>11</th>\n",
       "      <td>11</td>\n",
       "      <td>0.38</td>\n",
       "      <td>0.71</td>\n",
       "      <td>0.50</td>\n",
       "      <td>750</td>\n",
       "    </tr>\n",
       "    <tr>\n",
       "      <th>12</th>\n",
       "      <td>12</td>\n",
       "      <td>0.74</td>\n",
       "      <td>0.91</td>\n",
       "      <td>0.82</td>\n",
       "      <td>750</td>\n",
       "    </tr>\n",
       "    <tr>\n",
       "      <th>13</th>\n",
       "      <td>13</td>\n",
       "      <td>0.19</td>\n",
       "      <td>0.04</td>\n",
       "      <td>0.06</td>\n",
       "      <td>750</td>\n",
       "    </tr>\n",
       "    <tr>\n",
       "      <th>14</th>\n",
       "      <td>14</td>\n",
       "      <td>0.88</td>\n",
       "      <td>0.57</td>\n",
       "      <td>0.69</td>\n",
       "      <td>750</td>\n",
       "    </tr>\n",
       "    <tr>\n",
       "      <th>15</th>\n",
       "      <td>15</td>\n",
       "      <td>0.97</td>\n",
       "      <td>0.93</td>\n",
       "      <td>0.95</td>\n",
       "      <td>750</td>\n",
       "    </tr>\n",
       "    <tr>\n",
       "      <th>16</th>\n",
       "      <td>16</td>\n",
       "      <td>0.76</td>\n",
       "      <td>0.77</td>\n",
       "      <td>0.77</td>\n",
       "      <td>750</td>\n",
       "    </tr>\n",
       "    <tr>\n",
       "      <th>17</th>\n",
       "      <td>17</td>\n",
       "      <td>0.97</td>\n",
       "      <td>0.90</td>\n",
       "      <td>0.93</td>\n",
       "      <td>750</td>\n",
       "    </tr>\n",
       "    <tr>\n",
       "      <th>18</th>\n",
       "      <td>18</td>\n",
       "      <td>0.74</td>\n",
       "      <td>0.85</td>\n",
       "      <td>0.79</td>\n",
       "      <td>750</td>\n",
       "    </tr>\n",
       "    <tr>\n",
       "      <th>19</th>\n",
       "      <td>19</td>\n",
       "      <td>0.89</td>\n",
       "      <td>0.99</td>\n",
       "      <td>0.93</td>\n",
       "      <td>750</td>\n",
       "    </tr>\n",
       "    <tr>\n",
       "      <th>20</th>\n",
       "      <td>20</td>\n",
       "      <td>0.84</td>\n",
       "      <td>0.60</td>\n",
       "      <td>0.70</td>\n",
       "      <td>750</td>\n",
       "    </tr>\n",
       "    <tr>\n",
       "      <th>21</th>\n",
       "      <td>21</td>\n",
       "      <td>0.90</td>\n",
       "      <td>0.95</td>\n",
       "      <td>0.92</td>\n",
       "      <td>750</td>\n",
       "    </tr>\n",
       "    <tr>\n",
       "      <th>22</th>\n",
       "      <td>22</td>\n",
       "      <td>0.97</td>\n",
       "      <td>0.98</td>\n",
       "      <td>0.97</td>\n",
       "      <td>750</td>\n",
       "    </tr>\n",
       "    <tr>\n",
       "      <th>23</th>\n",
       "      <td>23</td>\n",
       "      <td>0.95</td>\n",
       "      <td>0.59</td>\n",
       "      <td>0.73</td>\n",
       "      <td>750</td>\n",
       "    </tr>\n",
       "    <tr>\n",
       "      <th>24</th>\n",
       "      <td>24</td>\n",
       "      <td>0.72</td>\n",
       "      <td>0.66</td>\n",
       "      <td>0.69</td>\n",
       "      <td>750</td>\n",
       "    </tr>\n",
       "    <tr>\n",
       "      <th>25</th>\n",
       "      <td>25</td>\n",
       "      <td>0.82</td>\n",
       "      <td>0.88</td>\n",
       "      <td>0.85</td>\n",
       "      <td>750</td>\n",
       "    </tr>\n",
       "    <tr>\n",
       "      <th>26</th>\n",
       "      <td>26</td>\n",
       "      <td>0.57</td>\n",
       "      <td>0.86</td>\n",
       "      <td>0.69</td>\n",
       "      <td>750</td>\n",
       "    </tr>\n",
       "    <tr>\n",
       "      <th>27</th>\n",
       "      <td>27</td>\n",
       "      <td>0.54</td>\n",
       "      <td>0.50</td>\n",
       "      <td>0.52</td>\n",
       "      <td>750</td>\n",
       "    </tr>\n",
       "    <tr>\n",
       "      <th>28</th>\n",
       "      <td>28</td>\n",
       "      <td>0.51</td>\n",
       "      <td>0.62</td>\n",
       "      <td>0.56</td>\n",
       "      <td>750</td>\n",
       "    </tr>\n",
       "    <tr>\n",
       "      <th>29</th>\n",
       "      <td>29</td>\n",
       "      <td>0.98</td>\n",
       "      <td>0.93</td>\n",
       "      <td>0.96</td>\n",
       "      <td>750</td>\n",
       "    </tr>\n",
       "    <tr>\n",
       "      <th>30</th>\n",
       "      <td>30</td>\n",
       "      <td>0.47</td>\n",
       "      <td>0.90</td>\n",
       "      <td>0.61</td>\n",
       "      <td>750</td>\n",
       "    </tr>\n",
       "    <tr>\n",
       "      <th>31</th>\n",
       "      <td>31</td>\n",
       "      <td>0.28</td>\n",
       "      <td>0.04</td>\n",
       "      <td>0.06</td>\n",
       "      <td>750</td>\n",
       "    </tr>\n",
       "    <tr>\n",
       "      <th>32</th>\n",
       "      <td>32</td>\n",
       "      <td>0.58</td>\n",
       "      <td>0.50</td>\n",
       "      <td>0.54</td>\n",
       "      <td>750</td>\n",
       "    </tr>\n",
       "    <tr>\n",
       "      <th>33</th>\n",
       "      <td>33</td>\n",
       "      <td>0.63</td>\n",
       "      <td>0.68</td>\n",
       "      <td>0.65</td>\n",
       "      <td>750</td>\n",
       "    </tr>\n",
       "    <tr>\n",
       "      <th>34</th>\n",
       "      <td>34</td>\n",
       "      <td>0.58</td>\n",
       "      <td>0.93</td>\n",
       "      <td>0.72</td>\n",
       "      <td>750</td>\n",
       "    </tr>\n",
       "    <tr>\n",
       "      <th>35</th>\n",
       "      <td>35</td>\n",
       "      <td>0.96</td>\n",
       "      <td>0.85</td>\n",
       "      <td>0.90</td>\n",
       "      <td>750</td>\n",
       "    </tr>\n",
       "    <tr>\n",
       "      <th>36</th>\n",
       "      <td>36</td>\n",
       "      <td>0.70</td>\n",
       "      <td>0.75</td>\n",
       "      <td>0.72</td>\n",
       "      <td>750</td>\n",
       "    </tr>\n",
       "    <tr>\n",
       "      <th>37</th>\n",
       "      <td>37</td>\n",
       "      <td>0.92</td>\n",
       "      <td>0.65</td>\n",
       "      <td>0.76</td>\n",
       "      <td>750</td>\n",
       "    </tr>\n",
       "    <tr>\n",
       "      <th>38</th>\n",
       "      <td>38</td>\n",
       "      <td>0.64</td>\n",
       "      <td>0.70</td>\n",
       "      <td>0.67</td>\n",
       "      <td>750</td>\n",
       "    </tr>\n",
       "    <tr>\n",
       "      <th>39</th>\n",
       "      <td>39</td>\n",
       "      <td>0.78</td>\n",
       "      <td>0.72</td>\n",
       "      <td>0.75</td>\n",
       "      <td>750</td>\n",
       "    </tr>\n",
       "    <tr>\n",
       "      <th>40</th>\n",
       "      <td>40</td>\n",
       "      <td>0.65</td>\n",
       "      <td>0.93</td>\n",
       "      <td>0.76</td>\n",
       "      <td>750</td>\n",
       "    </tr>\n",
       "    <tr>\n",
       "      <th>41</th>\n",
       "      <td>41</td>\n",
       "      <td>0.79</td>\n",
       "      <td>0.53</td>\n",
       "      <td>0.63</td>\n",
       "      <td>750</td>\n",
       "    </tr>\n",
       "    <tr>\n",
       "      <th>42</th>\n",
       "      <td>42</td>\n",
       "      <td>0.98</td>\n",
       "      <td>0.97</td>\n",
       "      <td>0.97</td>\n",
       "      <td>750</td>\n",
       "    </tr>\n",
       "  </tbody>\n",
       "</table>\n",
       "</div>"
      ],
      "text/plain": [
       "   Class  Precision  Recall  F1-Score  Support\n",
       "0      0       1.00    0.34      0.50      750\n",
       "1      1       0.73    0.73      0.73      750\n",
       "2      2       0.97    0.91      0.94      750\n",
       "3      3       0.91    0.94      0.92      750\n",
       "4      4       0.98    0.91      0.94      750\n",
       "5      5       0.98    0.93      0.95      750\n",
       "6      6       0.96    0.97      0.97      750\n",
       "7      7       0.99    0.96      0.97      750\n",
       "8      8       0.96    1.00      0.98      750\n",
       "9      9       0.95    0.98      0.97      750\n",
       "10    10       0.65    0.86      0.74      750\n",
       "11    11       0.38    0.71      0.50      750\n",
       "12    12       0.74    0.91      0.82      750\n",
       "13    13       0.19    0.04      0.06      750\n",
       "14    14       0.88    0.57      0.69      750\n",
       "15    15       0.97    0.93      0.95      750\n",
       "16    16       0.76    0.77      0.77      750\n",
       "17    17       0.97    0.90      0.93      750\n",
       "18    18       0.74    0.85      0.79      750\n",
       "19    19       0.89    0.99      0.93      750\n",
       "20    20       0.84    0.60      0.70      750\n",
       "21    21       0.90    0.95      0.92      750\n",
       "22    22       0.97    0.98      0.97      750\n",
       "23    23       0.95    0.59      0.73      750\n",
       "24    24       0.72    0.66      0.69      750\n",
       "25    25       0.82    0.88      0.85      750\n",
       "26    26       0.57    0.86      0.69      750\n",
       "27    27       0.54    0.50      0.52      750\n",
       "28    28       0.51    0.62      0.56      750\n",
       "29    29       0.98    0.93      0.96      750\n",
       "30    30       0.47    0.90      0.61      750\n",
       "31    31       0.28    0.04      0.06      750\n",
       "32    32       0.58    0.50      0.54      750\n",
       "33    33       0.63    0.68      0.65      750\n",
       "34    34       0.58    0.93      0.72      750\n",
       "35    35       0.96    0.85      0.90      750\n",
       "36    36       0.70    0.75      0.72      750\n",
       "37    37       0.92    0.65      0.76      750\n",
       "38    38       0.64    0.70      0.67      750\n",
       "39    39       0.78    0.72      0.75      750\n",
       "40    40       0.65    0.93      0.76      750\n",
       "41    41       0.79    0.53      0.63      750\n",
       "42    42       0.98    0.97      0.97      750"
      ]
     },
     "execution_count": 1,
     "metadata": {},
     "output_type": "execute_result"
    }
   ],
   "source": [
    "confusion = confusion_matrix(y_test, y_pred)\n",
    "\n",
    "# Calculate accuracy\n",
    "accuracy = np.sum(np.diag(confusion)) / np.sum(confusion)\n",
    "print(\"Total Accuracy: \", accuracy*100)\n",
    "\n",
    "# Calculate precision, recall, and F1-score\n",
    "classification_rep = classification_report(y_test, y_pred, labels=np.unique(y_pred))\n",
    "\n",
    "# Print the results\n",
    "print(\"\\nConfusion Matrix:\\n\", confusion)\n",
    "\n",
    "\n",
    "lines = classification_rep.split('\\n')\n",
    "data = []\n",
    "\n",
    "for line in lines[2:-5]:  # Exclude header and footer lines\n",
    "    row_data = line.split()\n",
    "    if len(row_data) > 0:\n",
    "        class_name = row_data[0]\n",
    "        precision = float(row_data[1])\n",
    "        recall = float(row_data[2])\n",
    "        f1_score = float(row_data[3])\n",
    "        support = int(row_data[4])\n",
    "        data.append([class_name, precision, recall, f1_score, support])\n",
    "\n",
    "# Create a DataFrame\n",
    "report = pd.DataFrame(data, columns=['Class', 'Precision', 'Recall', 'F1-Score', 'Support'])\n",
    "# Print the DataFrame\n",
    "print(\"\\n\\n\\n Summarizing the results : \")\n",
    "report"
   ]
  },
  {
   "cell_type": "code",
   "execution_count": 36,
   "id": "b43ce348",
   "metadata": {
    "execution": {
     "iopub.execute_input": "2024-02-07T15:03:42.223970Z",
     "iopub.status.busy": "2024-02-07T15:03:42.222340Z",
     "iopub.status.idle": "2024-02-07T15:03:44.433952Z",
     "shell.execute_reply": "2024-02-07T15:03:44.435198Z"
    }
   },
   "outputs": [
    {
     "data": {
      "image/png": "[encoded data removed]",
      "text/plain": [
       "<Figure size 720x576 with 2 Axes>"
      ]
     },
     "metadata": {
      "needs_background": "light"
     },
     "output_type": "display_data"
    }
   ],
   "source": [
    "class_names = []\n",
    "for i in range(num_of_classes):\n",
    "    class_names.append(\"Class \"+str(i))\n",
    "# Create a heatmap\n",
    "plt.figure(figsize=(10, 8))\n",
    "sns.heatmap(confusion, annot=False, cmap=\"viridis\", xticklabels=class_names, yticklabels=class_names)\n",
    "plt.xlabel('Predicted')\n",
    "plt.ylabel('Actual')\n",
    "plt.title('Confusion Matrix')\n",
    "plt.show()"
   ]
  },
  {
   "cell_type": "code",
   "execution_count": null,
   "id": "80e3e945",
   "metadata": {},
   "outputs": [],
   "source": []
  }
 ],
 "metadata": {
  "kernelspec": {
   "display_name": "Python 3 (ipykernel)",
   "language": "python",
   "name": "python3"
  },
  "language_info": {
   "codemirror_mode": {
    "name": "ipython",
    "version": 3
   },
   "file_extension": ".py",
   "mimetype": "text/x-python",
   "name": "python",
   "nbconvert_exporter": "python",
   "pygments_lexer": "ipython3",
   "version": "3.6.9"
  }
 },
 "nbformat": 4,
 "nbformat_minor": 5
}
